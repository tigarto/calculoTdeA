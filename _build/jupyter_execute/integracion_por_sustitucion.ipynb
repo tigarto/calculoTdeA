{
 "cells": [
  {
   "cell_type": "code",
   "execution_count": 1,
   "metadata": {
    "collapsed": true
   },
   "outputs": [
    {
     "ename": "ModuleNotFoundError",
     "evalue": "No module named 'sympy'",
     "output_type": "error",
     "traceback": [
      "\u001b[1;31m---------------------------------------------------------------------------\u001b[0m",
      "\u001b[1;31mModuleNotFoundError\u001b[0m                       Traceback (most recent call last)",
      "\u001b[1;32m<ipython-input-1-9f67bc6f6264>\u001b[0m in \u001b[0;36m<module>\u001b[1;34m\u001b[0m\n\u001b[0;32m      1\u001b[0m \u001b[1;32mfrom\u001b[0m \u001b[0mIPython\u001b[0m\u001b[1;33m.\u001b[0m\u001b[0mdisplay\u001b[0m \u001b[1;32mimport\u001b[0m \u001b[0mdisplay\u001b[0m\u001b[1;33m,\u001b[0m \u001b[0mLatex\u001b[0m\u001b[1;33m,\u001b[0m \u001b[0mMath\u001b[0m\u001b[1;33m,\u001b[0m \u001b[0mHTML\u001b[0m\u001b[1;33m,\u001b[0m \u001b[0mIFrame\u001b[0m\u001b[1;33m\u001b[0m\u001b[1;33m\u001b[0m\u001b[0m\n\u001b[0;32m      2\u001b[0m \u001b[1;32mfrom\u001b[0m \u001b[0mIPython\u001b[0m\u001b[1;33m.\u001b[0m\u001b[0mdisplay\u001b[0m \u001b[1;32mimport\u001b[0m \u001b[0mMarkdown\u001b[0m \u001b[1;32mas\u001b[0m \u001b[0mmd\u001b[0m\u001b[1;33m\u001b[0m\u001b[1;33m\u001b[0m\u001b[0m\n\u001b[1;32m----> 3\u001b[1;33m \u001b[1;32mfrom\u001b[0m \u001b[0msympy\u001b[0m \u001b[1;32mimport\u001b[0m \u001b[1;33m*\u001b[0m\u001b[1;33m\u001b[0m\u001b[1;33m\u001b[0m\u001b[0m\n\u001b[0m",
      "\u001b[1;31mModuleNotFoundError\u001b[0m: No module named 'sympy'"
     ]
    }
   ],
   "source": [
    "from IPython.display import display, Latex, Math, HTML, IFrame\r\n",
    "from IPython.display import Markdown as md\r\n",
    "from sympy import *"
   ]
  },
  {
   "cell_type": "markdown",
   "metadata": {
    "collapsed": false,
    "pycharm": {
     "name": "#%% md\n"
    }
   },
   "source": [
    "# Integracion por sustitución\r\n",
    "\r\n",
    "## Regla de la sustitución o cambio de variable\r\n",
    "\r\n",
    "Existen integrales que no pueden ser resueltas mediante integración directa:\r\n",
    "\r\n",
    "$$\\int{2x\\sqrt{1+x^2}}dx$$\r\n",
    "\r\n",
    "En casos como los anteriores lo que se realiza es un cambio de variable para transformar la expresión original en una expresión que pueda ser resuelta empleando el método de integración directa.\r\n",
    "\r\n",
    "## Método de sustitución o cambio de variable\r\n",
    "\r\n",
    "```{note}\r\n",
    "**Teorema - Regla de la sustitución**\r\n",
    "\r\n",
    "Si $u=g(x)$ es una función derivable cuyo rango es un intervalo $I$ y $f$ es continua sobre $I$, entonces:\r\n",
    "\r\n",
    "$$\\int{f(g(x))g'(x)}dx = \\int{f(u)}du$$\r\n",
    "```\r\n",
    "\r\n",
    "### Estrategia de solución empleando el método de sustitución\r\n",
    "\r\n",
    "1. Observe cuidadosamente el integrando y seleccione una expresión dentro del integrando $g(x)$ haciendola igual a $u$. Cuando seleccione $g(x)$ busque que $g'(x)$ sea también parte del integrando.\r\n",
    "2. Sustituya $u=g(x)$ y $du=g'(x)dx$ de tal manera que la integral quede en términos de $u$.\r\n",
    "3. Una vez hecho lo anterior, proceda a evaluar la integral con respecto a $u$. Si la integral no puede ser evaluada es necesario devolverse y seleccionar una expresión diferente para $u$.\r\n",
    "4. Evalué la integral en términos de $u$.\r\n",
    "5. Recupere la variable de modo que escriba el resultado en términos de $x$ (variable original).\r\n",
    "\r\n",
    "### Ejemplos\r\n",
    "\r\n",
    "---\r\n",
    "1. Obtenga la integral indefinida de la siguiente expresión: $\\int{6x(3x^2+4)^4}dx$\r\n",
    "---\r\n",
    "**Solución**: Se elige como sustitución $u=3x^2+4$ de modo que $du=6xdx$"
   ]
  },
  {
   "cell_type": "code",
   "execution_count": 64,
   "metadata": {
    "collapsed": false,
    "pycharm": {
     "name": "#%%\n"
    }
   },
   "outputs": [
    {
     "data": {
      "text/latex": [
       "$\\displaystyle \\frac{u^{5}}{5}$"
      ],
      "text/plain": [
       "u**5/5"
      ]
     },
     "metadata": {},
     "output_type": "display_data"
    }
   ],
   "source": [
    "# Integración respecto a u\r\n",
    "x = symbols('x')\r\n",
    "u = symbols('u')\r\n",
    "fu = u**4\r\n",
    "r = integrate(fu,u)\r\n",
    "display(r)"
   ]
  },
  {
   "cell_type": "markdown",
   "metadata": {
    "collapsed": false
   },
   "source": [
    "Luego, retornando a la variable original se tiene que:"
   ]
  },
  {
   "cell_type": "code",
   "execution_count": 65,
   "metadata": {
    "collapsed": false,
    "pycharm": {
     "name": "#%%\n"
    }
   },
   "outputs": [
    {
     "data": {
      "text/latex": [
       "$\\displaystyle \\frac{\\left(3 x^{2} + 4\\right)^{5}}{5}$"
      ],
      "text/plain": [
       "(3*x**2 + 4)**5/5"
      ]
     },
     "metadata": {},
     "output_type": "display_data"
    }
   ],
   "source": [
    "# Recuperación de la variable original\r\n",
    "display(r.subs(u,3*x**2 + 4))"
   ]
  },
  {
   "cell_type": "markdown",
   "metadata": {
    "collapsed": false
   },
   "source": [
    "**Solución**:\n",
    "\n",
    "$$\\int{6x(3x^2+4)^4}dx = \\frac{(3x^2+5)^5}{5} + C$$"
   ]
  },
  {
   "cell_type": "markdown",
   "metadata": {
    "collapsed": false
   },
   "source": [
    "---\n",
    "2. Obtenga la integral indefinida de la siguiente expresión: $\\int{\\sqrt{2x+1}}dx$\n",
    "---\n",
    "**Solución**: Se elige como sustitución $u=2x+1$ de modo que $du=2dx$"
   ]
  },
  {
   "cell_type": "code",
   "execution_count": 105,
   "metadata": {
    "collapsed": false,
    "pycharm": {
     "name": "#%%\n"
    }
   },
   "outputs": [
    {
     "data": {
      "text/latex": [
       "$\\displaystyle \\frac{u^{\\frac{3}{2}}}{3}$"
      ],
      "text/plain": [
       "u**(3/2)/3"
      ]
     },
     "metadata": {},
     "output_type": "display_data"
    }
   ],
   "source": [
    "x = symbols('x')\r\n",
    "u = symbols('u')\r\n",
    "fu = Rational(1,2)*sqrt(u)\r\n",
    "ru = integrate(fu,u)\r\n",
    "display(ru)"
   ]
  },
  {
   "cell_type": "markdown",
   "metadata": {
    "collapsed": false
   },
   "source": [
    "Luego, retornando a la variable original se tiene que:"
   ]
  },
  {
   "cell_type": "code",
   "execution_count": 106,
   "metadata": {
    "collapsed": false,
    "pycharm": {
     "name": "#%%\n"
    }
   },
   "outputs": [
    {
     "data": {
      "text/latex": [
       "$\\displaystyle \\frac{\\left(2 x + 1\\right)^{\\frac{3}{2}}}{3}$"
      ],
      "text/plain": [
       "(2*x + 1)**(3/2)/3"
      ]
     },
     "metadata": {},
     "output_type": "display_data"
    }
   ],
   "source": [
    "# Recuperación de la variable original\n",
    "display(ru.subs(u,2*x+1))"
   ]
  },
  {
   "cell_type": "markdown",
   "metadata": {
    "collapsed": false,
    "pycharm": {
     "name": "#%% md\n"
    }
   },
   "source": [
    "**Solución**:\n",
    "\n",
    "$$\\int{\\sqrt{2x+1}}dx = \\frac{1}{3}(2x+1)^{3/2} + C$$\n",
    "\n",
    "---\n",
    "3. Obtenga la integral indefinida de la siguiente expresión:  $\\int{\\frac{x}{1-4x^2}}dx$\n",
    "---\n",
    "\n",
    "**Solución**: Se elige como sustitución $u=1-4x^2$ de modo que $du=-8xdx$\n"
   ]
  },
  {
   "cell_type": "code",
   "execution_count": 74,
   "metadata": {
    "collapsed": false,
    "pycharm": {
     "name": "#%%\n"
    }
   },
   "outputs": [
    {
     "data": {
      "text/latex": [
       "$\\displaystyle - \\frac{\\sqrt{u}}{4}$"
      ],
      "text/plain": [
       "-sqrt(u)/4"
      ]
     },
     "metadata": {},
     "output_type": "display_data"
    }
   ],
   "source": [
    "x = symbols('x')\n",
    "u = symbols('u')\n",
    "fu = -Rational(1,8)/sqrt(u)\n",
    "ru = integrate(fu,u)\n",
    "display(ru)"
   ]
  },
  {
   "cell_type": "markdown",
   "metadata": {
    "collapsed": false
   },
   "source": [
    "Luego, retornando a la variable original se tiene que:"
   ]
  },
  {
   "cell_type": "code",
   "execution_count": 75,
   "metadata": {
    "collapsed": false,
    "pycharm": {
     "name": "#%%\n"
    }
   },
   "outputs": [
    {
     "data": {
      "text/latex": [
       "$\\displaystyle - \\frac{\\sqrt{1 - 4 x^{2}}}{4}$"
      ],
      "text/plain": [
       "-sqrt(1 - 4*x**2)/4"
      ]
     },
     "metadata": {},
     "output_type": "display_data"
    }
   ],
   "source": [
    "# Recuperación de la variable original\n",
    "display(ru.subs(u,1-4*x**2))"
   ]
  },
  {
   "cell_type": "markdown",
   "metadata": {
    "collapsed": false
   },
   "source": [
    "\n",
    "**Solución**:\n",
    "\n",
    "$$\\int{\\frac{x}{1-4x^2}}dx = -\\frac{1}{4}\\sqrt{1-4x^2} + C$$"
   ]
  },
  {
   "cell_type": "markdown",
   "metadata": {
    "collapsed": false
   },
   "source": [
    "---\n",
    "4. Obtenga la integral indefinida de la siguiente expresión:  $\\int{e^{5x}}dx$\n",
    "---\n",
    "\n",
    "**Solución**: Se elige como sustitución $u=5x$ de modo que $du=5dx$"
   ]
  },
  {
   "cell_type": "code",
   "execution_count": 76,
   "metadata": {
    "collapsed": false,
    "pycharm": {
     "name": "#%%\n"
    }
   },
   "outputs": [
    {
     "data": {
      "text/latex": [
       "$\\displaystyle \\frac{e^{u}}{5}$"
      ],
      "text/plain": [
       "exp(u)/5"
      ]
     },
     "metadata": {},
     "output_type": "display_data"
    }
   ],
   "source": [
    "x = symbols('x')\n",
    "u = symbols('u')\n",
    "fu = Rational(1,5)*exp(u)\n",
    "ru = integrate(fu,u)\n",
    "display(ru)"
   ]
  },
  {
   "cell_type": "markdown",
   "metadata": {
    "collapsed": false
   },
   "source": [
    "Luego, retornando a la variable original se tiene que:"
   ]
  },
  {
   "cell_type": "code",
   "execution_count": 77,
   "metadata": {
    "collapsed": false,
    "pycharm": {
     "name": "#%%\n"
    }
   },
   "outputs": [
    {
     "data": {
      "text/latex": [
       "$\\displaystyle \\frac{e^{5 x}}{5}$"
      ],
      "text/plain": [
       "exp(5*x)/5"
      ]
     },
     "metadata": {},
     "output_type": "display_data"
    }
   ],
   "source": [
    "# Recuperación de la variable original\n",
    "display(ru.subs(u,5*x))"
   ]
  },
  {
   "cell_type": "markdown",
   "metadata": {
    "collapsed": false
   },
   "source": [
    "**Solución**:\n",
    "\n",
    "$$\\int{e^{5x}}dx = \\frac{1}{5}e^{5x} + C$$\n",
    "\n",
    "---\n",
    "5. Obtenga la integral indefinida de la siguiente expresión:  $\\int{\\frac{\\sin{t}}{\\cos^3{t}}}dt$\n",
    "---\n",
    "\n",
    "**Solución**: Se elige como sustitución $u=\\cos{t}$ de modo que $du=-\\sin{t}dt$"
   ]
  },
  {
   "cell_type": "code",
   "execution_count": 78,
   "metadata": {
    "collapsed": false,
    "pycharm": {
     "name": "#%%\n"
    }
   },
   "outputs": [
    {
     "data": {
      "text/latex": [
       "$\\displaystyle \\frac{1}{2 u^{2}}$"
      ],
      "text/plain": [
       "1/(2*u**2)"
      ]
     },
     "metadata": {},
     "output_type": "display_data"
    }
   ],
   "source": [
    "t = symbols('t')\n",
    "u = symbols('u')\n",
    "fu = -1/u**3\n",
    "ru = integrate(fu,u)\n",
    "display(ru)"
   ]
  },
  {
   "cell_type": "markdown",
   "metadata": {
    "collapsed": false
   },
   "source": [
    "Luego, retornando a la variable original se tiene que:"
   ]
  },
  {
   "cell_type": "code",
   "execution_count": 79,
   "metadata": {
    "collapsed": false,
    "pycharm": {
     "name": "#%%\n"
    }
   },
   "outputs": [
    {
     "data": {
      "text/latex": [
       "$\\displaystyle \\frac{1}{2 \\cos^{2}{\\left(t \\right)}}$"
      ],
      "text/plain": [
       "1/(2*cos(t)**2)"
      ]
     },
     "metadata": {},
     "output_type": "display_data"
    }
   ],
   "source": [
    "# Recuperación de la variable original\r\n",
    "display(ru.subs(u,cos(t)))"
   ]
  },
  {
   "cell_type": "markdown",
   "metadata": {
    "collapsed": false,
    "pycharm": {
     "name": "#%% md\n"
    }
   },
   "source": [
    "**Solución**:\n",
    "\n",
    "$$\\int{\\frac{\\sin{t}}{\\cos^3{t}}}dt = \\frac{1}{2\\cos^2{t}} + C$$\n",
    "\n",
    "---\n",
    "6. Obtenga la integral indefinida de la siguiente expresión:  $\\int{\\sqrt{1+x^2}x^5}dx$\n",
    "---\n",
    "\n",
    "**Solución**: Se elige como sustitución $u=1+x^2$ de modo que $du=2xdx$"
   ]
  },
  {
   "cell_type": "code",
   "execution_count": null,
   "metadata": {
    "collapsed": false,
    "pycharm": {
     "name": "#%%\n"
    }
   },
   "outputs": [],
   "source": [
    "x = symbols('x')\r\n",
    "u = symbols('u')\r\n",
    "fu = Rational(1,2)*sqrt(u)*(u-1)**2\r\n",
    "ru = integrate(fu,u)\r\n",
    "ru = simplify(ru).expand()\r\n",
    "display(ru)"
   ]
  },
  {
   "cell_type": "markdown",
   "metadata": {
    "collapsed": false
   },
   "source": [
    "Luego, retornando a la variable original se tiene que:"
   ]
  },
  {
   "cell_type": "code",
   "execution_count": null,
   "metadata": {
    "collapsed": false,
    "pycharm": {
     "name": "#%%\n"
    }
   },
   "outputs": [],
   "source": [
    "# Recuperación de la variable original\r\n",
    "display(ru.subs(u,1+x**2))"
   ]
  },
  {
   "cell_type": "markdown",
   "metadata": {
    "collapsed": false
   },
   "source": [
    "**Solución**:\n",
    "\n",
    "$$\\int{\\sqrt{1+x^2}x^5}dx = \\frac{1}{7}(1+x^2)^{7/2} -\\frac{2}{5}(1+x^2)^{5/2} + \\frac{1}{3}(1+x^2)^{3/2} + C$$\n",
    "\n",
    "---\n",
    "7. Obtenga la integral indefinida de la siguiente expresión:  $\\int{\\tan{x}}dx$\n",
    "---\n",
    "\n",
    "**Solución**: Teniendo en cuenta que $\\tan{x} = \\frac{\\sin{x}}{\\cos{x}}$\n",
    "\n",
    "Se elige como sustitución $u = \\cos{x}$ de modo que $du = -\\sin{x}dx$"
   ]
  },
  {
   "cell_type": "code",
   "execution_count": null,
   "metadata": {
    "collapsed": false,
    "pycharm": {
     "name": "#%%\n"
    }
   },
   "outputs": [],
   "source": [
    "x = symbols('x')\r\n",
    "u = symbols('u')\r\n",
    "fu = -1/u\r\n",
    "ru = integrate(fu,u)\r\n",
    "display(ru)"
   ]
  },
  {
   "cell_type": "markdown",
   "metadata": {
    "collapsed": false
   },
   "source": [
    "Luego, retornando a la variable original se tiene que:"
   ]
  },
  {
   "cell_type": "code",
   "execution_count": null,
   "metadata": {
    "collapsed": false,
    "pycharm": {
     "name": "#%%\n"
    }
   },
   "outputs": [],
   "source": [
    "# Recuperación de la variable original\n",
    "display(ru.subs(u,cos(x)))"
   ]
  },
  {
   "cell_type": "markdown",
   "metadata": {
    "collapsed": false
   },
   "source": [
    "**Solución**:\n",
    "\n",
    "$$\\int{\\tan{x}}dx = -\\ln{|\\cos{x}|} + C = \\ln{|\\sec{x}|} + C $$\n",
    "\n",
    "---\n",
    "8. Obtenga la integral indefinida de la siguiente expresión:  $\\int{x^2\\sqrt{2x+1}}dx$\n",
    "---\n",
    "\n",
    "**Solución**: Se elige como sustitución $u = 2x + 1$ de modo que $du = 2dx$"
   ]
  },
  {
   "cell_type": "code",
   "execution_count": 99,
   "metadata": {
    "collapsed": false,
    "pycharm": {
     "name": "#%%\n"
    }
   },
   "outputs": [
    {
     "data": {
      "text/latex": [
       "$\\displaystyle \\frac{u^{\\frac{7}{2}}}{28} - \\frac{u^{\\frac{5}{2}}}{10} + \\frac{u^{\\frac{3}{2}}}{12}$"
      ],
      "text/plain": [
       "u**(7/2)/28 - u**(5/2)/10 + u**(3/2)/12"
      ]
     },
     "metadata": {},
     "output_type": "display_data"
    }
   ],
   "source": [
    "x = symbols('x')\r\n",
    "u = symbols('u')\r\n",
    "fu = (((1-u)/2)**2)*(sqrt(u))/2\r\n",
    "ru = simplify(integrate(fu,u)).expand()\r\n",
    "display(ru)"
   ]
  },
  {
   "cell_type": "markdown",
   "metadata": {
    "collapsed": false
   },
   "source": [
    "Luego, retornando a la variable original se tiene que:"
   ]
  },
  {
   "cell_type": "code",
   "execution_count": 101,
   "metadata": {
    "collapsed": false,
    "pycharm": {
     "name": "#%%\n"
    }
   },
   "outputs": [
    {
     "data": {
      "text/latex": [
       "$\\displaystyle \\frac{\\left(2 x + 1\\right)^{\\frac{7}{2}}}{28} - \\frac{\\left(2 x + 1\\right)^{\\frac{5}{2}}}{10} + \\frac{\\left(2 x + 1\\right)^{\\frac{3}{2}}}{12}$"
      ],
      "text/plain": [
       "(2*x + 1)**(7/2)/28 - (2*x + 1)**(5/2)/10 + (2*x + 1)**(3/2)/12"
      ]
     },
     "metadata": {},
     "output_type": "display_data"
    }
   ],
   "source": [
    "# Recuperación de la variable original\r\n",
    "display(ru.subs(u,2*x+1))"
   ]
  },
  {
   "cell_type": "markdown",
   "metadata": {
    "collapsed": false
   },
   "source": [
    "**Solución**:\n",
    "\n",
    "$$\\int{x^2\\sqrt{2x+1}}dx = \\frac{(2x+1)^{7/2}}{28} - \\frac{(2x+1)^{5/2}}{10} + \\frac{(2x+1)^{3/2}}{12} + C $$\n",
    "\n",
    "\n",
    "---\n",
    "9. Obtenga la integral indefinida de la siguiente expresión:  $\\int{\\frac{{(\\tan^{-1}{x})}^2}{1+x^2}}dx$\n",
    "---\n",
    "\n",
    "**Solución**: Se elige como sustitución $u = \\tan^{-1}{x}$ de modo que $du = \\frac{1}{1+x^2}dx$"
   ]
  },
  {
   "cell_type": "code",
   "execution_count": 102,
   "metadata": {
    "collapsed": false,
    "pycharm": {
     "name": "#%%\n"
    }
   },
   "outputs": [
    {
     "data": {
      "text/latex": [
       "$\\displaystyle \\frac{u^{3}}{3}$"
      ],
      "text/plain": [
       "u**3/3"
      ]
     },
     "metadata": {},
     "output_type": "display_data"
    }
   ],
   "source": [
    "x = symbols('x')\r\n",
    "u = symbols('u')\r\n",
    "fu = u**2\r\n",
    "ru = integrate(fu,u)\r\n",
    "display(ru)"
   ]
  },
  {
   "cell_type": "markdown",
   "metadata": {
    "collapsed": false
   },
   "source": [
    "Luego, retornando a la variable original se tiene que:"
   ]
  },
  {
   "cell_type": "code",
   "execution_count": 107,
   "metadata": {
    "collapsed": false,
    "pycharm": {
     "name": "#%%\n"
    }
   },
   "outputs": [
    {
     "data": {
      "text/latex": [
       "$\\displaystyle \\frac{\\operatorname{atan}^{\\frac{3}{2}}{\\left(x \\right)}}{3}$"
      ],
      "text/plain": [
       "atan(x)**(3/2)/3"
      ]
     },
     "metadata": {},
     "output_type": "display_data"
    }
   ],
   "source": [
    "# Recuperación de la variable original\r\n",
    "display(ru.subs(u,atan(x)))"
   ]
  },
  {
   "cell_type": "markdown",
   "metadata": {
    "collapsed": false
   },
   "source": [
    "**Solución**: $\\int{\\frac{{(\\tan^{-1}{x})}^2}{1+x^2}}dx = \\frac{1}{3}(\\tan^{-1}{x})^3 + C $\n",
    "\n",
    "## Enlaces\n",
    "* https://www.yu.edu/sites/default/files/inline-files/Lec14_sympy.pdf\n",
    "* https://scipy-lectures.org/packages/sympy.html\n",
    "* https://dynamics-and-control.readthedocs.io/en/latest/0_Getting_Started/Notebook%20introduction.html\n",
    "* https://vknight.org/pfm/tools-for-mathematics/03-calculus/how/main.html\n",
    "* http://prob140.org/sp17/textbook/ch17/Calculus_in_SymPy.html\n",
    "* http://prob140.org/textbook/content/README.html\n",
    "* https://www.math.purdue.edu/~bradfor3/ProgrammingFundamentals/Sympy/\n",
    "* https://scipy-lectures.org/packages/sympy.html\n",
    "* https://dynamics-and-control.readthedocs.io/en/latest/0_Getting_Started/Notebook%20introduction.html\n",
    "* https://towardsdatascience.com/simplify-calculus-for-machine-learning-with-sympy-8a84e57b30bb\n",
    "* https://zetcode.com/python/sympy/\n",
    "* https://colab.research.google.com/github/drvinceknight/Python-Mathematics-Handbook/blob/master/01-Symbolic-mathematics-with-Sympy.ipynb\n",
    "* https://github.com/drvinceknight/Python-Mathematics-Handbook"
   ]
  }
 ],
 "metadata": {
  "interpreter": {
   "hash": "11ffc019a02cc0e21e59860b66c88ea81995ce9237607e8ab2c087a287ee4867"
  },
  "kernelspec": {
   "display_name": "Python 3.8.8 64-bit ('base': conda)",
   "name": "python3"
  },
  "language_info": {
   "codemirror_mode": {
    "name": "ipython",
    "version": 3
   },
   "file_extension": ".py",
   "mimetype": "text/x-python",
   "name": "python",
   "nbconvert_exporter": "python",
   "pygments_lexer": "ipython3",
   "version": "3.7.10"
  }
 },
 "nbformat": 4,
 "nbformat_minor": 2
}